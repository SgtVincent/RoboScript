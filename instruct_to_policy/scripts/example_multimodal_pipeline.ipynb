{
 "cells": [
  {
   "cell_type": "code",
   "execution_count": 2,
   "metadata": {},
   "outputs": [],
   "source": [
    "import os \n",
    "import sys\n",
    "import numpy as np\n",
    "from scipy.spatial.transform import Rotation as R \n",
    "import rospy \n",
    "import rospkg\n",
    "import jupyros as jr\n",
    "\n",
    "from std_msgs.msg import String, Header\n",
    "from geometry_msgs.msg import PoseStamped, Pose, Point, Quaternion"
   ]
  },
  {
   "cell_type": "code",
   "execution_count": 3,
   "metadata": {},
   "outputs": [
    {
     "name": "stdout",
     "output_type": "stream",
     "text": [
      "Failed to import pyassimp, see https://github.com/ros-planning/moveit/issues/86 for more info\n",
      "Jupyter environment detected. Enabling Open3D WebVisualizer.\n",
      "[Open3D INFO] WebRTC GUI backend enabled.\n",
      "[Open3D INFO] WebRTCWindowSystem: HTTP handshake server disabled.\n"
     ]
    },
    {
     "name": "stderr",
     "output_type": "stream",
     "text": [
      "[nltk_data] Downloading package punkt to /home/junting/nltk_data...\n",
      "[nltk_data]   Package punkt is already up-to-date!\n",
      "[nltk_data] Downloading package averaged_perceptron_tagger to\n",
      "[nltk_data]     /home/junting/nltk_data...\n",
      "[nltk_data]   Package averaged_perceptron_tagger is already up-to-\n",
      "[nltk_data]       date!\n"
     ]
    }
   ],
   "source": [
    "# add catkin_ws context \n",
    "sys.path.append(\"/home/junting/franka_ws/devel/lib/python3.9/site-packages\")\n",
    "\n",
    "from src.lmp import *\n",
    "from src.env.multimodal_env import MultiModalEnv\n",
    "from src.config import cfg_tabletop\n",
    "\n"
   ]
  },
  {
   "cell_type": "code",
   "execution_count": 4,
   "metadata": {},
   "outputs": [
    {
     "name": "stdout",
     "output_type": "stream",
     "text": [
      "[DEBUG] [1701956186.621501, 0.000000]: init_node, name[/jupyter_multimodal], pid[2570726]\n",
      "[DEBUG] [1701956186.622432, 0.000000]: binding to 0.0.0.0 0\n",
      "[DEBUG] [1701956186.623065, 0.000000]: bound to 0.0.0.0 43491\n",
      "[DEBUG] [1701956186.623242, 0.000000]: connecting to chao-desktop 43343\n",
      "[DEBUG] [1701956186.623833, 0.000000]: ... service URL is rosrpc://chao-desktop:43491\n",
      "[DEBUG] [1701956186.624471, 0.000000]: [/jupyter_multimodal/get_loggers]: new Service instance\n",
      "[DEBUG] [1701956186.625350, 4126.446000]: ... service URL is rosrpc://chao-desktop:43491\n",
      "[DEBUG] [1701956186.625841, 4126.447000]: [/jupyter_multimodal/set_logger_level]: new Service instance\n",
      "[DEBUG] [1701956186.668075, 4126.489000]: connecting to chao-desktop 43343\n",
      "[DEBUG] [1701956186.668779, 4126.490000]: connecting to chao-desktop 43343\n",
      "[DEBUG] [1701956186.669837, 4126.491000]: connecting to chao-desktop 57687\n",
      "[INFO] [1701956186.670903, 4126.492000]: camera_left: Waiting for camera_left/color/camera_info...\n",
      "[DEBUG] [1701956186.671987, 4126.493000]: connecting to chao-desktop 43343\n",
      "[DEBUG] [1701956186.672143, 4126.493000]: connecting to chao-desktop 57687\n",
      "[INFO] [1701956187.171905, 4126.993000]: camera_left: camera_left/color/camera_info received!\n",
      "[INFO] [1701956187.172835, 4126.993000]: camera_left: camera_left/depth/camera_info received!\n",
      "[DEBUG] [1701956187.177955, 4126.999000]: connecting to chao-desktop 43343\n",
      "[INFO] [1701956187.179065, 4127.000000]: camera_right: Waiting for camera_right/color/camera_info...\n",
      "[DEBUG] [1701956187.179190, 4127.000000]: connecting to chao-desktop 51601\n",
      "[DEBUG] [1701956187.180552, 4127.001000]: connecting to chao-desktop 43343\n",
      "[DEBUG] [1701956187.180744, 4127.001000]: connecting to chao-desktop 51601\n",
      "[INFO] [1701956187.679146, 4127.500000]: camera_right: camera_right/color/camera_info received!\n",
      "[INFO] [1701956187.680441, 4127.501000]: camera_right: camera_right/depth/camera_info received!\n",
      "[DEBUG] [1701956187.683218, 4127.504000]: connecting to chao-desktop 43343\n",
      "[DEBUG] [1701956187.684269, 4127.505000]: connecting to chao-desktop 44301\n",
      "[INFO] [1701956187.684487, 4127.505000]: camera_top: Waiting for camera_top/color/camera_info...\n",
      "[DEBUG] [1701956187.685942, 4127.506000]: connecting to chao-desktop 43343\n",
      "[DEBUG] [1701956187.686145, 4127.507000]: connecting to chao-desktop 44301\n",
      "[INFO] [1701956188.189022, 4128.006000]: camera_top: camera_top/color/camera_info received!\n",
      "[INFO] [1701956188.190112, 4128.010000]: camera_top: camera_top/depth/camera_info received!\n",
      "[DEBUG] [1701956188.191305, 4128.011000]: ... service URL is rosrpc://chao-desktop:43491\n",
      "[DEBUG] [1701956188.193104, 4128.013000]: [/jupyter_multimodal/tf2_frames]: new Service instance\n",
      "\u001b[0m[ INFO] [1701956188.201675607]: Loading robot model 'panda'...\u001b[0m\n",
      "[DEBUG] [1701956188.364290, 4128.184000]: connecting to chao-desktop 54887\n",
      "[DEBUG] [1701956188.364597, 4128.184000]: connecting to chao-desktop 44561\n",
      "[DEBUG] [1701956188.365340, 4128.185000]: connecting to chao-desktop 43343\n",
      "[DEBUG] [1701956188.365875, 4128.185000]: connecting to ('chao-desktop', 34045)\n",
      "[DEBUG] [1701956188.365945, 4128.185000]: connecting to chao-desktop 44561\n",
      "[DEBUG] [1701956188.367229, 4128.187000]: connecting to chao-desktop 54887\n",
      "[DEBUG] [1701956188.368452, 4128.189000]: connecting to chao-desktop 42831\n",
      "\u001b[0m[ INFO] [1701956189.612391163, 4129.432000000]: Ready to take commands for planning group panda_manipulator.\u001b[0m\n",
      "\u001b[0m[ INFO] [1701956189.844234597, 4129.664000000]: Ready to take commands for planning group panda_arm.\u001b[0m\n",
      "[DEBUG] [1701956189.867437, 4129.687000]: connecting to chao-desktop 43343\n",
      "[DEBUG] [1701956189.870309, 4129.689000]: connecting to chao-desktop 43343\n",
      "[DEBUG] [1701956189.871063, 4129.691000]: connecting to chao-desktop 43343\n",
      "[DEBUG] [1701956190.122564, 4129.942000]: connecting to chao-desktop 43343\n",
      "[DEBUG] [1701956190.124249, 4129.944000]: connecting to chao-desktop 43343\n",
      "[DEBUG] [1701956190.124439, 4129.944000]: connecting to chao-desktop 43343\n",
      "[DEBUG] [1701956190.425422, 4130.244000]: connecting to chao-desktop 43343\n",
      "[DEBUG] [1701956190.426990, 4130.246000]: connecting to chao-desktop 43343\n",
      "[DEBUG] [1701956190.427176, 4130.246000]: connecting to chao-desktop 43343\n",
      "Gripper action clients ready\n",
      "Set up Franka API. Ready to go!\n",
      "[DEBUG] [1701956190.723949, 4130.543000]: connecting to ('chao-desktop', 37135)\n",
      "[INFO] [1701956190.724823, 4130.544000]: Grasp detection: remote model service ready\n",
      "VISION BACKBONE USE GRADIENT CHECKPOINTING:  False\n"
     ]
    },
    {
     "name": "stderr",
     "output_type": "stream",
     "text": [
      "/home/junting/miniforge-pypy3/envs/ros_env/lib/python3.9/site-packages/torch/functional.py:504: UserWarning: torch.meshgrid: in an upcoming release, it will be required to pass the indexing argument. (Triggered internally at ../aten/src/ATen/native/TensorShape.cpp:3190.)\n",
      "  return _VF.meshgrid(tensors, **kwargs)  # type: ignore[attr-defined]\n"
     ]
    },
    {
     "name": "stdout",
     "output_type": "stream",
     "text": [
      "LANGUAGE BACKBONE USE GRADIENT CHECKPOINTING:  False\n",
      "[DEBUG] [1701956197.726584, 4137.526000]: Transitioning to ACTIVE (from WAITING_FOR_GOAL_ACK, goal: /jupyter_multimodal-1-4137.526)\n",
      "[DEBUG] [1701956199.726872, 4139.526000]: Transitioning to WAITING_FOR_RESULT (from ACTIVE, goal: /jupyter_multimodal-1-4137.526)\n",
      "[DEBUG] [1701956199.727985, 4139.527000]: Transitioning to DONE (from WAITING_FOR_RESULT, goal: /jupyter_multimodal-1-4137.526)\n",
      "[DEBUG] [1701956217.119438, 4156.908000]: connecting to ('chao-desktop', 43343)\n",
      "[DEBUG] [1701956217.121959, 4156.911000]: connecting to ('chao-desktop', 43343)\n",
      "[DEBUG] [1701956217.123618, 4156.912000]: connecting to ('chao-desktop', 43343)\n",
      "[DEBUG] [1701956217.126968, 4156.916000]: connecting to chao-desktop 43343\n",
      "[DEBUG] [1701956217.131371, 4156.919000]: connecting to chao-desktop 43343\n",
      "[DEBUG] [1701956217.134988, 4156.921000]: connecting to chao-desktop 34045\n",
      "[DEBUG] [1701956217.136669, 4156.922000]: connecting to chao-desktop 34045\n",
      "[INFO] [1701956218.314080, 4158.073000]: Environment reset.\n"
     ]
    }
   ],
   "source": [
    "########################################\n",
    "# initialize environment\n",
    "########################################\n",
    "rospy.init_node('jupyter_multimodal', log_level=rospy.DEBUG)\n",
    "# get package root path \n",
    "pkg_root = rospkg.RosPack().get_path('instruct_to_policy')\n",
    "\n",
    "# setup environment\n",
    "env = MultiModalEnv(cfg_tabletop)\n"
   ]
  },
  {
   "cell_type": "code",
   "execution_count": 26,
   "metadata": {},
   "outputs": [
    {
     "name": "stdout",
     "output_type": "stream",
     "text": [
      "[DEBUG] [1701956502.961148, 4442.501000]: Transitioning to ACTIVE (from WAITING_FOR_GOAL_ACK, goal: /jupyter_multimodal-10-4442.501)\n",
      "[DEBUG] [1701956504.861817, 4444.401000]: Transitioning to WAITING_FOR_RESULT (from ACTIVE, goal: /jupyter_multimodal-10-4442.501)\n",
      "[DEBUG] [1701956504.862918, 4444.402000]: Transitioning to DONE (from WAITING_FOR_RESULT, goal: /jupyter_multimodal-10-4442.501)\n",
      "[DEBUG] [1701956515.873559, 4455.408000]: connecting to ('chao-desktop', 43343)\n",
      "[DEBUG] [1701956515.875391, 4455.409000]: connecting to ('chao-desktop', 43343)\n",
      "[DEBUG] [1701956515.876487, 4455.411000]: connecting to ('chao-desktop', 43343)\n",
      "[DEBUG] [1701956515.877608, 4455.412000]: connecting to chao-desktop 43343\n",
      "[DEBUG] [1701956515.881477, 4455.415000]: connecting to chao-desktop 43343\n",
      "[DEBUG] [1701956515.887365, 4455.420000]: connecting to chao-desktop 34045\n",
      "[DEBUG] [1701956515.889411, 4455.421000]: connecting to chao-desktop 34045\n",
      "[INFO] [1701956516.933012, 4456.424000]: Environment reset.\n"
     ]
    }
   ],
   "source": [
    "env.reset()"
   ]
  },
  {
   "cell_type": "code",
   "execution_count": 27,
   "metadata": {},
   "outputs": [
    {
     "name": "stdout",
     "output_type": "stream",
     "text": [
      "/home/junting/catkin_ws/src/llm-manipulation-bench/instruct_to_policy/scripts\n"
     ]
    }
   ],
   "source": [
    "print(os.getcwd())"
   ]
  },
  {
   "cell_type": "code",
   "execution_count": 28,
   "metadata": {},
   "outputs": [
    {
     "name": "stdout",
     "output_type": "stream",
     "text": [
      "inference time per image: 0.5033056069805752\n",
      "tensor([[851.1663, 536.1653, 901.8213, 589.9950]]) ['apple']\n",
      "inference time per image: 0.5018157890008297\n",
      "tensor([[1117.1006,  429.1297, 1327.5033,  542.5709]]) ['plate']\n",
      "inference time per image: 0.4937023280072026\n",
      "tensor([[ 874.4307,  591.7009, 1011.2306,  704.9275]]) ['bowl']\n",
      "inference time per image: 0.4828629959956743\n",
      "tensor([[866.6465, 414.9463, 909.0099, 459.0491]]) ['apple']\n",
      "inference time per image: 0.5025312989891972\n",
      "tensor([[ 720.2008,  529.7368, 1029.9137,  685.6167]]) ['plate']\n",
      "inference time per image: 0.49393041798612103\n",
      "tensor([[674.9136, 380.5056, 756.1622, 453.2097]]) ['bowl']\n",
      "inference time per image: 0.47305531200254336\n",
      "tensor([], size=(0, 4)) []\n",
      "inference time per image: 0.4885192640067544\n",
      "tensor([], size=(0, 4)) []\n",
      "inference time per image: 0.47309912301716395\n",
      "tensor([[1167.4985,  251.1775, 1257.0775,  341.4570]]) ['bowl']\n",
      "[DEBUG] [1701956522.046382, 4461.524000]: connecting to chao-desktop 34045\n",
      "Added object apple_0 to planning scene\n",
      "[DEBUG] [1701956522.076823, 4461.554000]: connecting to chao-desktop 34045\n",
      "Added object plate_0 to planning scene\n",
      "[DEBUG] [1701956522.231787, 4461.712000]: connecting to chao-desktop 34045\n",
      "Added object bowl_0 to planning scene\n"
     ]
    }
   ],
   "source": [
    "env.detect_objects(object_list=[\"apple\", \"plate\", \"bowl\"])"
   ]
  },
  {
   "cell_type": "code",
   "execution_count": 29,
   "metadata": {},
   "outputs": [
    {
     "data": {
      "text/plain": [
       "['apple_0', 'plate_0', 'bowl_0']"
      ]
     },
     "execution_count": 29,
     "metadata": {},
     "output_type": "execute_result"
    }
   ],
   "source": [
    "env.scene.visualize_3d_bboxes()\n",
    "env.get_obj_name_list()"
   ]
  },
  {
   "cell_type": "code",
   "execution_count": 30,
   "metadata": {},
   "outputs": [
    {
     "name": "stdout",
     "output_type": "stream",
     "text": [
      "[DEBUG] [1701956524.934074, 4464.413000]: connecting to chao-desktop 34045\n",
      "Added object apple_0 to planning scene\n",
      "[DEBUG] [1701956524.967736, 4464.447000]: connecting to chao-desktop 34045\n",
      "Added object plate_0 to planning scene\n",
      "[DEBUG] [1701956525.008454, 4464.488000]: connecting to chao-desktop 34045\n",
      "Added object bowl_0 to planning scene\n"
     ]
    }
   ],
   "source": [
    "env.add_scene_objects_to_moveit()"
   ]
  },
  {
   "cell_type": "code",
   "execution_count": 31,
   "metadata": {},
   "outputs": [
    {
     "name": "stdout",
     "output_type": "stream",
     "text": [
      "[INFO] [1701956525.091612, 4464.553000]: Sending perception data to grasp detection service\n",
      "[DEBUG] [1701956525.097863, 4464.575000]: connecting to chao-desktop 37135\n"
     ]
    }
   ],
   "source": [
    "grasp_pose = env.parse_adaptive_shape_grasp_pose('apple_0')"
   ]
  },
  {
   "cell_type": "code",
   "execution_count": 32,
   "metadata": {},
   "outputs": [
    {
     "data": {
      "text/plain": [
       "['apple_0', 'bowl_0', 'plate_0']"
      ]
     },
     "execution_count": 32,
     "metadata": {},
     "output_type": "execute_result"
    }
   ],
   "source": [
    "env.planning_scene.get_known_object_names()"
   ]
  },
  {
   "cell_type": "code",
   "execution_count": 33,
   "metadata": {},
   "outputs": [
    {
     "data": {
      "text/plain": [
       "{'apple_0': {}, 'plate_0': {}, 'bowl_0': {}}"
      ]
     },
     "execution_count": 33,
     "metadata": {},
     "output_type": "execute_result"
    }
   ],
   "source": [
    "env.objects"
   ]
  },
  {
   "cell_type": "code",
   "execution_count": 34,
   "metadata": {},
   "outputs": [
    {
     "name": "stdout",
     "output_type": "stream",
     "text": [
      "[DEBUG] [1701956527.651042, 4467.126000]: Transitioning to ACTIVE (from WAITING_FOR_GOAL_ACK, goal: /jupyter_multimodal-11-4467.125)\n",
      "[DEBUG] [1701956527.686720, 4467.159000]: Transitioning to WAITING_FOR_RESULT (from ACTIVE, goal: /jupyter_multimodal-11-4467.125)\n",
      "[DEBUG] [1701956527.687973, 4467.163000]: Transitioning to DONE (from WAITING_FOR_RESULT, goal: /jupyter_multimodal-11-4467.125)\n",
      "[DEBUG] [1701956527.689011, 4467.163000]: Waiting for rviz to update\n"
     ]
    },
    {
     "name": "stderr",
     "output_type": "stream",
     "text": [
      "[WARN] [1701956528.744025, 4468.216000]: MoveitEnv: Could not plan cartesian_path to target pose \n",
      "position: \n",
      "  x: -0.27649660290796935\n",
      "  y: -0.17286453834982995\n",
      "  z: 1.1564431072901833\n",
      "orientation: \n",
      "  x: 0.6993529206633681\n",
      "  y: -0.6677615559119899\n",
      "  z: 0.1843941981573167\n",
      "  w: 0.17606469405174707.\n",
      " Plan accuracy: 0.6086956521739131\n"
     ]
    },
    {
     "name": "stdout",
     "output_type": "stream",
     "text": [
      "[DEBUG] [1701956538.999824, 4478.468000]: Transitioning to ACTIVE (from WAITING_FOR_GOAL_ACK, goal: /jupyter_multimodal-12-4478.467)\n",
      "[DEBUG] [1701956539.034604, 4478.503000]: Transitioning to WAITING_FOR_RESULT (from ACTIVE, goal: /jupyter_multimodal-12-4478.467)\n",
      "[DEBUG] [1701956539.035521, 4478.503000]: Transitioning to DONE (from WAITING_FOR_RESULT, goal: /jupyter_multimodal-12-4478.467)\n",
      "[DEBUG] [1701956539.037950, 4478.507000]: connecting to chao-desktop 34045\n",
      "[DEBUG] [1701956539.039816, 4478.509000]: Waiting for rviz to update\n",
      "[DEBUG] [1701956541.633434, 4481.101000]: connecting to chao-desktop 34045\n",
      "[DEBUG] [1701956541.635070, 4481.103000]: Waiting for rviz to update\n",
      "[DEBUG] [1701956543.133993, 4482.601000]: connecting to chao-desktop 34045\n",
      "[DEBUG] [1701956543.135452, 4482.602000]: Waiting for rviz to update\n"
     ]
    },
    {
     "data": {
      "text/plain": [
       "True"
      ]
     },
     "execution_count": 34,
     "metadata": {},
     "output_type": "execute_result"
    }
   ],
   "source": [
    "env.open_gripper()\n",
    "env.grasp(grasp_pose)\n"
   ]
  },
  {
   "cell_type": "code",
   "execution_count": 35,
   "metadata": {},
   "outputs": [
    {
     "name": "stdout",
     "output_type": "stream",
     "text": [
      "[DEBUG] [1701956544.655736, 4484.121000]: Transitioning to ACTIVE (from WAITING_FOR_GOAL_ACK, goal: /jupyter_multimodal-13-4484.118)\n",
      "[DEBUG] [1701956546.588791, 4486.054000]: Transitioning to WAITING_FOR_RESULT (from ACTIVE, goal: /jupyter_multimodal-13-4484.118)\n",
      "[DEBUG] [1701956546.589734, 4486.055000]: Transitioning to DONE (from WAITING_FOR_RESULT, goal: /jupyter_multimodal-13-4484.118)\n"
     ]
    },
    {
     "data": {
      "text/plain": [
       "True"
      ]
     },
     "execution_count": 35,
     "metadata": {},
     "output_type": "execute_result"
    }
   ],
   "source": [
    "env.close_gripper()\n",
    "env.attach_object('apple_0')"
   ]
  },
  {
   "cell_type": "code",
   "execution_count": 36,
   "metadata": {},
   "outputs": [
    {
     "name": "stdout",
     "output_type": "stream",
     "text": [
      "[DEBUG] [1701956546.601246, 4486.065000]: Waiting for rviz to update\n"
     ]
    }
   ],
   "source": [
    "place_pose = env.parse_place_pose('apple_0', 'plate_0')\n",
    "env.move_to_pose(place_pose)\n",
    "env.detach_object('apple_0')"
   ]
  }
 ],
 "metadata": {
  "kernelspec": {
   "display_name": "ROS Python 3 (ipykernel)",
   "language": "python",
   "name": "ros_python"
  },
  "language_info": {
   "codemirror_mode": {
    "name": "ipython",
    "version": 3
   },
   "file_extension": ".py",
   "mimetype": "text/x-python",
   "name": "python",
   "nbconvert_exporter": "python",
   "pygments_lexer": "ipython3",
   "version": "3.9.18"
  }
 },
 "nbformat": 4,
 "nbformat_minor": 2
}
