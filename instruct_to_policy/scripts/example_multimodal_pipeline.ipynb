{
 "cells": [
  {
   "cell_type": "code",
   "execution_count": 1,
   "metadata": {},
   "outputs": [],
   "source": [
    "import os \n",
    "import sys\n",
    "import numpy as np\n",
    "from scipy.spatial.transform import Rotation as R \n",
    "import rospy \n",
    "import rospkg\n",
    "import jupyros as jr\n",
    "\n",
    "from std_msgs.msg import String, Header\n",
    "from geometry_msgs.msg import PoseStamped, Pose, Point, Quaternion"
   ]
  },
  {
   "cell_type": "code",
   "execution_count": 2,
   "metadata": {},
   "outputs": [
    {
     "name": "stdout",
     "output_type": "stream",
     "text": [
      "Jupyter environment detected. Enabling Open3D WebVisualizer.\n",
      "[Open3D INFO] WebRTC GUI backend enabled.\n",
      "[Open3D INFO] WebRTCWindowSystem: HTTP handshake server disabled.\n",
      "Grounding Model: GLIP not available.\n"
     ]
    }
   ],
   "source": [
    "# add catkin_ws context \n",
    "sys.path.append(\"/home/junting/franka_ws/devel/lib/python3.9/site-packages\")\n",
    "\n",
    "from src.lmp import *\n",
    "from src.env.multimodal_env import MultiModalEnv\n",
    "from src.config import cfg_tabletop\n",
    "\n"
   ]
  },
  {
   "cell_type": "code",
   "execution_count": 3,
   "metadata": {},
   "outputs": [
    {
     "name": "stdout",
     "output_type": "stream",
     "text": [
      "[DEBUG] [1701260177.786056, 0.000000]: init_node, name[/jupyter_multimodal], pid[3619375]\n",
      "[DEBUG] [1701260177.788054, 0.000000]: binding to 0.0.0.0 0\n",
      "[DEBUG] [1701260177.789217, 0.000000]: bound to 0.0.0.0 34779\n",
      "[DEBUG] [1701260177.790188, 0.000000]: connecting to junting-shlab 46943\n",
      "[DEBUG] [1701260177.791331, 0.000000]: ... service URL is rosrpc://junting-shlab:34779\n",
      "[DEBUG] [1701260177.793210, 0.000000]: [/jupyter_multimodal/get_loggers]: new Service instance\n",
      "[DEBUG] [1701260177.795194, 0.000000]: ... service URL is rosrpc://junting-shlab:34779\n",
      "[DEBUG] [1701260177.796230, 0.000000]: [/jupyter_multimodal/set_logger_level]: new Service instance\n",
      "[INFO] [1701260178.022750, 5642.911000]: camera_left: Waiting for camera_left/color/camera_info...\n",
      "[DEBUG] [1701260178.036197, 5642.918000]: connecting to junting-shlab 46943\n",
      "[DEBUG] [1701260178.057079, 5642.928000]: connecting to junting-shlab 59817\n",
      "[DEBUG] [1701260178.058763, 5642.929000]: connecting to junting-shlab 46943\n",
      "[DEBUG] [1701260178.066828, 5642.933000]: connecting to junting-shlab 46943\n",
      "[DEBUG] [1701260178.072166, 5642.937000]: connecting to junting-shlab 59817\n",
      "[INFO] [1701260178.736563, 5643.412000]: camera_left: camera_left/color/camera_info received!\n",
      "[INFO] [1701260178.738503, 5643.413000]: camera_left: camera_left/depth/camera_info received!\n",
      "[INFO] [1701260178.752785, 5643.421000]: camera_right: Waiting for camera_right/color/camera_info...\n",
      "[DEBUG] [1701260178.756852, 5643.423000]: connecting to junting-shlab 35343\n",
      "[DEBUG] [1701260178.768335, 5643.429000]: connecting to junting-shlab 46943\n",
      "[DEBUG] [1701260178.775157, 5643.432000]: connecting to junting-shlab 46943\n",
      "[DEBUG] [1701260178.777998, 5643.433000]: connecting to junting-shlab 35343\n",
      "[INFO] [1701260179.535049, 5643.930000]: camera_right: camera_right/color/camera_info received!\n",
      "[INFO] [1701260179.536897, 5643.930000]: camera_right: camera_right/depth/camera_info received!\n",
      "[INFO] [1701260179.557623, 5643.941000]: camera_top: Waiting for camera_top/color/camera_info...\n",
      "[DEBUG] [1701260179.570421, 5643.947000]: connecting to junting-shlab 46943\n",
      "[DEBUG] [1701260179.573059, 5643.949000]: connecting to junting-shlab 34917\n",
      "[DEBUG] [1701260179.589193, 5643.957000]: connecting to junting-shlab 34917\n",
      "[DEBUG] [1701260179.596519, 5643.960000]: connecting to junting-shlab 46943\n",
      "[INFO] [1701260180.237702, 5644.446000]: camera_top: camera_top/color/camera_info received!\n",
      "[INFO] [1701260180.239419, 5644.447000]: camera_top: camera_top/depth/camera_info received!\n",
      "[DEBUG] [1701260180.244151, 5644.449000]: ... service URL is rosrpc://junting-shlab:34779\n",
      "[DEBUG] [1701260180.249535, 5644.453000]: [/jupyter_multimodal/tf2_frames]: new Service instance\n",
      "\u001b[0m[ INFO] [1701260180.319517976]: Loading robot model 'panda'...\u001b[0m\n",
      "[DEBUG] [1701260181.526138, 5645.246000]: connecting to junting-shlab 35455\n",
      "[DEBUG] [1701260181.535898, 5645.249000]: connecting to ('junting-shlab', 47529)\n",
      "[DEBUG] [1701260181.573897, 5645.263000]: connecting to junting-shlab 49119\n",
      "[DEBUG] [1701260182.530290, 5645.266000]: connecting to junting-shlab 49119\n",
      "[DEBUG] [1701260182.530955, 5645.266000]: connecting to junting-shlab 35455\n",
      "\u001b[0m[ INFO] [1701260182.529186088, 5645.875000000]: Ready to take commands for planning group panda_manipulator.\u001b[0m\n",
      "\u001b[0m[ INFO] [1701260183.169404498, 5646.255000000]: Ready to take commands for planning group panda_arm.\u001b[0m\n",
      "[DEBUG] [1701260183.204256, 5646.271000]: connecting to junting-shlab 46943\n",
      "[DEBUG] [1701260183.236200, 5646.281000]: connecting to junting-shlab 51413\n",
      "[DEBUG] [1701260183.325133, 5646.315000]: connecting to junting-shlab 46943\n",
      "[DEBUG] [1701260183.379107, 5646.390000]: connecting to junting-shlab 46943\n",
      "[DEBUG] [1701260183.393031, 5646.407000]: connecting to junting-shlab 46943\n",
      "[DEBUG] [1701260183.518383, 5646.517000]: connecting to junting-shlab 46943\n",
      "[DEBUG] [1701260183.520643, 5646.517000]: connecting to junting-shlab 46943\n",
      "[DEBUG] [1701260183.534701, 5646.528000]: connecting to junting-shlab 46943\n",
      "[DEBUG] [1701260183.752814, 5646.667000]: connecting to junting-shlab 46943\n",
      "[DEBUG] [1701260183.759944, 5646.670000]: connecting to junting-shlab 46943\n",
      "[DEBUG] [1701260183.763721, 5646.673000]: connecting to junting-shlab 46943\n",
      "Gripper action clients ready\n",
      "Set up Franka API. Ready to go!\n",
      "[DEBUG] [1701260183.963302, 5646.801000]: connecting to ('junting-shlab', 40139)\n",
      "[INFO] [1701260183.965219, 5646.801000]: Grasp detection: remote model service ready\n",
      "[DEBUG] [1701260183.976434, 5646.812000]: Transitioning to ACTIVE (from WAITING_FOR_GOAL_ACK, goal: /jupyter_multimodal-1-5646.808)\n",
      "[DEBUG] [1701260184.016352, 5646.845000]: Transitioning to WAITING_FOR_RESULT (from ACTIVE, goal: /jupyter_multimodal-1-5646.808)\n",
      "[DEBUG] [1701260184.018639, 5646.845000]: Transitioning to DONE (from WAITING_FOR_RESULT, goal: /jupyter_multimodal-1-5646.808)\n",
      "[DEBUG] [1701260184.232908, 5647.012000]: connecting to ('junting-shlab', 46943)\n",
      "[DEBUG] [1701260184.236138, 5647.013000]: connecting to ('junting-shlab', 46943)\n",
      "[DEBUG] [1701260184.238783, 5647.014000]: connecting to ('junting-shlab', 46943)\n",
      "[DEBUG] [1701260184.241330, 5647.014000]: connecting to junting-shlab 46943\n",
      "[DEBUG] [1701260184.267002, 5647.033000]: connecting to junting-shlab 46943\n",
      "[DEBUG] [1701260184.286600, 5647.040000]: connecting to junting-shlab 47529\n",
      "[DEBUG] [1701260184.302511, 5647.042000]: connecting to junting-shlab 47529\n",
      "[INFO] [1701260188.083440, 5648.145000]: Environment reset.\n"
     ]
    }
   ],
   "source": [
    "########################################\n",
    "# initialize environment\n",
    "########################################\n",
    "rospy.init_node('jupyter_multimodal', log_level=rospy.DEBUG)\n",
    "# get package root path \n",
    "pkg_root = rospkg.RosPack().get_path('instruct_to_policy')\n",
    "\n",
    "# setup environment\n",
    "cfg_tabletop['grounding_model']['model_name'] = 'embodiedgpt'\n",
    "env = MultiModalEnv(cfg_tabletop)\n",
    "env.reset()\n"
   ]
  },
  {
   "cell_type": "code",
   "execution_count": 4,
   "metadata": {},
   "outputs": [
    {
     "name": "stdout",
     "output_type": "stream",
     "text": [
      "/home/junting/franka_ws/src/franka_fisher/instruct_to_policy/scripts\n"
     ]
    }
   ],
   "source": [
    "print(os.getcwd())"
   ]
  },
  {
   "cell_type": "code",
   "execution_count": 5,
   "metadata": {},
   "outputs": [],
   "source": [
    "from src.perception.utils import load_data_from_multiview_detection\n",
    "world_name = \"world_6_mug_to_same_color_plate\"\n",
    "exclude_keywords = [\"cabinet\"]\n",
    "\n",
    "current_dir = os.getcwd()\n",
    "data_dir = os.path.join(current_dir, f\"../data/benchmark/multiview_detection\")\n",
    "\n",
    "multiview_data = load_data_from_multiview_detection(\n",
    "    data_dir=data_dir,\n",
    "    world_name=world_name,\n",
    "    exclude_keywords=exclude_keywords\n",
    ")\n",
    "\n",
    "# add '_0' to the end of each key in multiview_data['detections_list']\n",
    "for i in range(len(multiview_data['detections_list'])):\n",
    "    multiview_data['detections_list'][i] = {key + '_0': value for key, value in multiview_data['detections_list'][i].items()}"
   ]
  },
  {
   "cell_type": "code",
   "execution_count": 6,
   "metadata": {},
   "outputs": [
    {
     "data": {
      "text/plain": [
       "[{'green_plant_plate_0': [635, 513, 984, 713],\n",
       "  'white_ceramic_plate_0': [1074, 484, 1364, 652],\n",
       "  'red_plant_saucer_0': [975, 366, 1214, 487],\n",
       "  'white_porcelain_mug_0': [1003, 433, 1131, 562]},\n",
       " {'green_plant_plate_0': [756, 360, 1005, 480],\n",
       "  'white_ceramic_plate_0': [603, 480, 893, 647],\n",
       "  'red_plant_saucer_0': [962, 511, 1295, 706],\n",
       "  'white_porcelain_mug_0': [833, 429, 959, 558]},\n",
       " {'green_plant_plate_0': [1103, 344, 1278, 516],\n",
       "  'red_plant_saucer_0': [698, 326, 864, 491]}]"
      ]
     },
     "execution_count": 6,
     "metadata": {},
     "output_type": "execute_result"
    }
   ],
   "source": [
    "multiview_data['detections_list']"
   ]
  },
  {
   "cell_type": "code",
   "execution_count": 7,
   "metadata": {},
   "outputs": [],
   "source": [
    "data = env.get_sensor_data()\n",
    "data.update({\n",
    "    'detections_list': multiview_data['detections_list']\n",
    "})"
   ]
  },
  {
   "cell_type": "code",
   "execution_count": 8,
   "metadata": {},
   "outputs": [],
   "source": [
    "env.scene.update(data)"
   ]
  },
  {
   "cell_type": "code",
   "execution_count": 9,
   "metadata": {},
   "outputs": [
    {
     "data": {
      "text/plain": [
       "['green_plant_plate_0',\n",
       " 'white_ceramic_plate_0',\n",
       " 'red_plant_saucer_0',\n",
       " 'white_porcelain_mug_0']"
      ]
     },
     "execution_count": 9,
     "metadata": {},
     "output_type": "execute_result"
    }
   ],
   "source": [
    "env.scene.visualize_3d_bboxes()\n",
    "env.get_obj_name_list()"
   ]
  },
  {
   "cell_type": "code",
   "execution_count": 10,
   "metadata": {},
   "outputs": [
    {
     "name": "stdout",
     "output_type": "stream",
     "text": [
      "[DEBUG] [1701260267.388983, 5701.268000]: connecting to junting-shlab 47529\n",
      "Added object green_plant_plate_0 to planning scene\n",
      "[DEBUG] [1701260267.946115, 5701.551000]: connecting to junting-shlab 47529\n",
      "Added object white_ceramic_plate_0 to planning scene\n",
      "[DEBUG] [1701260268.628005, 5702.012000]: connecting to junting-shlab 47529\n",
      "Added object red_plant_saucer_0 to planning scene\n",
      "[DEBUG] [1701260269.026889, 5702.235000]: connecting to junting-shlab 47529\n",
      "Added object white_porcelain_mug_0 to planning scene\n"
     ]
    }
   ],
   "source": [
    "env.add_scene_objects_to_moveit()"
   ]
  },
  {
   "cell_type": "code",
   "execution_count": 11,
   "metadata": {},
   "outputs": [
    {
     "name": "stdout",
     "output_type": "stream",
     "text": [
      "[INFO] [1701260272.062021, 5704.344000]: Sending perception data to grasp detection service\n",
      "[DEBUG] [1701260272.065532, 5704.346000]: connecting to junting-shlab 40139\n"
     ]
    },
    {
     "data": {
      "text/plain": [
       "position: \n",
       "  x: -0.2066335827112198\n",
       "  y: -0.007539818994700909\n",
       "  z: 1.0757216215133667\n",
       "orientation: \n",
       "  x: 0.7588502149779254\n",
       "  y: 0.32012445459361033\n",
       "  z: 0.4477004106809462\n",
       "  w: -0.3481824623314793"
      ]
     },
     "execution_count": 11,
     "metadata": {},
     "output_type": "execute_result"
    }
   ],
   "source": [
    "env.parse_adaptive_shape_grasp_pose('white_porcelain_mug_0')"
   ]
  }
 ],
 "metadata": {
  "kernelspec": {
   "display_name": "ROS Python 3 (ipykernel)",
   "language": "python",
   "name": "ros_python"
  },
  "language_info": {
   "codemirror_mode": {
    "name": "ipython",
    "version": 3
   },
   "file_extension": ".py",
   "mimetype": "text/x-python",
   "name": "python",
   "nbconvert_exporter": "python",
   "pygments_lexer": "ipython3",
   "version": "3.9.17"
  }
 },
 "nbformat": 4,
 "nbformat_minor": 2
}
