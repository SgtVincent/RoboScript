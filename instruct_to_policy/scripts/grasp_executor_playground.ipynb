{
 "cells": [
  {
   "cell_type": "code",
   "execution_count": 1,
   "metadata": {
    "tags": []
   },
   "outputs": [
    {
     "name": "stdout",
     "output_type": "stream",
     "text": [
      "Failed to import pyassimp, see https://github.com/ros-planning/moveit/issues/86 for more info\n"
     ]
    }
   ],
   "source": [
    "from typing import List, NamedTuple\n",
    "import numpy as np\n",
    "import jupyros as jr \n",
    "import os \n",
    "from visualization_msgs.msg import Marker, MarkerArray\n",
    "from visualization_msgs.msg import Marker\n",
    "import moveit_commander\n",
    "from visualization_msgs.msg import Marker\n",
    "import numpy as np\n",
    "from scipy.spatial.transform import Rotation\n",
    "from franka_msgs.msg import ErrorRecoveryAction, ErrorRecoveryActionGoal\n",
    "import rospy\n",
    "from gazebo_msgs.srv import (\n",
    "    GetModelState,\n",
    "    GetWorldProperties,\n",
    "    GetModelProperties,\n",
    ")\n",
    "from geometry_msgs.msg import PoseStamped\n"
   ]
  },
  {
   "cell_type": "code",
   "execution_count": 2,
   "metadata": {
    "tags": []
   },
   "outputs": [],
   "source": [
    "rospy.init_node(\"grasp_executor\")\n"
   ]
  },
  {
   "cell_type": "code",
   "execution_count": 16,
   "metadata": {
    "tags": []
   },
   "outputs": [],
   "source": [
    "import importlib\n",
    "import src.env.moveit_interface as moveit_interface\n",
    "importlib.reload(moveit_interface)\n",
    "import src.env.utils\n",
    "importlib.reload(src.env.utils)\n",
    "from src.env.utils import pose_to_list"
   ]
  },
  {
   "cell_type": "code",
   "execution_count": 17,
   "metadata": {
    "tags": []
   },
   "outputs": [
    {
     "data": {
      "text/plain": [
       "[-0.08709680994572455,\n",
       " -0.6486011540410326,\n",
       " -0.39148927358730923,\n",
       " -2.2079177559329297,\n",
       " -0.22621135712161689,\n",
       " 1.6113088232773443,\n",
       " 0.3982840169424229]"
      ]
     },
     "execution_count": 17,
     "metadata": {},
     "output_type": "execute_result"
    }
   ],
   "source": [
    "import moveit_commander\n",
    "moveit_commander.MoveGroupCommander(\"panda_manipulator\").get_current_joint_values()"
   ]
  },
  {
   "cell_type": "code",
   "execution_count": null,
   "metadata": {},
   "outputs": [],
   "source": []
  },
  {
   "cell_type": "code",
   "execution_count": 32,
   "metadata": {
    "tags": []
   },
   "outputs": [
    {
     "name": "stdout",
     "output_type": "stream",
     "text": [
      "Loading static scene information\n",
      "Set up Franka API. Ready to go!\n",
      "Resetted\n"
     ]
    }
   ],
   "source": [
    "init_pose = [\n",
    "-0.0001513652608586824,\n",
    "-0.7856258935003497,\n",
    "9.991577917034533e-06,\n",
    "-2.3559505836972523,\n",
    "2.0776787743592706e-05,\n",
    "1.5717418653690114,\n",
    "0.7853832208311591\n",
    "]\n",
    "grasp_controller = moveit_interface.GraspExecutor(\"world\", reset_pose=init_pose)\n",
    "print(\"Resetted\")\n",
    "grasp_controller.reset() \n"
   ]
  },
  {
   "cell_type": "code",
   "execution_count": 33,
   "metadata": {
    "tags": []
   },
   "outputs": [
    {
     "data": {
      "text/plain": [
       "{'ground_plane': {},\n",
       " 'table': {},\n",
       " 'pick_tray': {},\n",
       " 'place_tray': {},\n",
       " 'stone': {}}"
      ]
     },
     "execution_count": 33,
     "metadata": {},
     "output_type": "execute_result"
    }
   ],
   "source": [
    "grasp_controller.objects\n"
   ]
  },
  {
   "cell_type": "code",
   "execution_count": 34,
   "metadata": {
    "tags": []
   },
   "outputs": [],
   "source": [
    "gazebo_node_name = 'gazebo'\n",
    "object_name = 'stone'\n",
    "frame_id = 'world'\n",
    "get_model_state = rospy.ServiceProxy(f'{gazebo_node_name}/get_model_state', GetModelState)\n"
   ]
  },
  {
   "cell_type": "code",
   "execution_count": 35,
   "metadata": {
    "tags": []
   },
   "outputs": [
    {
     "name": "stdout",
     "output_type": "stream",
     "text": [
      "position: \n",
      "  x: 0.00028600034534020436\n",
      "  y: -0.22197200606608894\n",
      "  z: 0.46316699963523916\n",
      "orientation: \n",
      "  x: 9.478265936607412e-08\n",
      "  y: 5.3951634307949206e-09\n",
      "  z: 1.3941400853136722e-12\n",
      "  w: 0.9999999999999956\n"
     ]
    }
   ],
   "source": [
    "object_state = get_model_state(object_name, frame_id)\n",
    "object_pose = object_state.pose\n",
    "print(object_pose)\n",
    "pos, rot = pose_to_list(object_pose)\n",
    "# print(pos, rot)"
   ]
  },
  {
   "cell_type": "code",
   "execution_count": 36,
   "metadata": {
    "tags": []
   },
   "outputs": [
    {
     "data": {
      "text/plain": [
       "header: \n",
       "  seq: 0\n",
       "  stamp: \n",
       "    secs: 3648\n",
       "    nsecs:  18000000\n",
       "  frame_id: \"world\"\n",
       "pose: \n",
       "  position: \n",
       "    x: 0.00720302524581654\n",
       "    y: -5.689977424501939e-05\n",
       "    z: 0.48726680088838087\n",
       "  orientation: \n",
       "    x: 0.999999445881389\n",
       "    y: -9.968325514353809e-05\n",
       "    z: 0.0010478476685543661\n",
       "    w: 1.776026755888041e-05"
      ]
     },
     "execution_count": 36,
     "metadata": {},
     "output_type": "execute_result"
    }
   ],
   "source": [
    "grasp_controller.group.get_current_pose()"
   ]
  },
  {
   "cell_type": "code",
   "execution_count": 37,
   "metadata": {},
   "outputs": [
    {
     "name": "stdout",
     "output_type": "stream",
     "text": [
      "Moving to pre-grasp pose\n",
      "Moved to pre grasp. Remmoving object\n",
      "Moving to grasp pose\n",
      "Closing gripper\n"
     ]
    },
    {
     "data": {
      "text/plain": [
       "True"
      ]
     },
     "execution_count": 37,
     "metadata": {},
     "output_type": "execute_result"
    }
   ],
   "source": [
    "grasp_controller.grasp(np.array(pos) + np.array([0,0,0.01], dtype=float), np.array([1, 0, 0, 0], dtype=float))\n",
    "grasp_controller.move_to_pose(np.array(pos) + np.array([0,0,0.1], dtype=float), np.array([1,0,0,0], dtype=float))"
   ]
  },
  {
   "cell_type": "code",
   "execution_count": null,
   "metadata": {},
   "outputs": [],
   "source": []
  },
  {
   "cell_type": "code",
   "execution_count": 24,
   "metadata": {},
   "outputs": [],
   "source": [
    "from moveit_msgs.msg import RobotTrajectory, Grasp"
   ]
  },
  {
   "cell_type": "markdown",
   "metadata": {},
   "source": [
    "## RVIZ markers"
   ]
  },
  {
   "cell_type": "code",
   "execution_count": 12,
   "metadata": {
    "tags": []
   },
   "outputs": [
    {
     "data": {
      "application/vnd.jupyter.widget-view+json": {
       "model_id": "b346a281aaa64fe8a7e4cf6af43758a1",
       "version_major": 2,
       "version_minor": 0
      },
      "text/plain": [
       "VBox(children=(Label(value='header'), HBox(children=(Label(value='seq', layout=Layout(width='100px')), IntText…"
      ]
     },
     "execution_count": 12,
     "metadata": {},
     "output_type": "execute_result"
    }
   ],
   "source": [
    "jr.publish('/end_effector_pose', PoseStamped)"
   ]
  },
  {
   "cell_type": "code",
   "execution_count": 13,
   "metadata": {},
   "outputs": [],
   "source": [
    "# pos = [0.15 + 0.3, 0.10, 0.6]\n",
    "# ori = np.array([0, -0.923, 0.382, 0])\n",
    "# ori = ori / np.linalg.norm(ori)\n",
    "# print(\"Moving to\", pos)"
   ]
  }
 ],
 "metadata": {
  "kernelspec": {
   "display_name": "ROS Python 3 (ipykernel)",
   "language": "python",
   "name": "ros_python"
  },
  "language_info": {
   "codemirror_mode": {
    "name": "ipython",
    "version": 3
   },
   "file_extension": ".py",
   "mimetype": "text/x-python",
   "name": "python",
   "nbconvert_exporter": "python",
   "pygments_lexer": "ipython3",
   "version": "3.9.17"
  }
 },
 "nbformat": 4,
 "nbformat_minor": 4
}
