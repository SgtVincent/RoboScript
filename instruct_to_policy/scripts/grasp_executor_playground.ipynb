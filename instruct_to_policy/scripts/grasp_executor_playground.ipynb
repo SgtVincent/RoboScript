{
 "cells": [
  {
   "cell_type": "code",
   "execution_count": 1,
   "metadata": {
    "tags": []
   },
   "outputs": [
    {
     "name": "stdout",
     "output_type": "stream",
     "text": [
      "Failed to import pyassimp, see https://github.com/ros-planning/moveit/issues/86 for more info\n"
     ]
    }
   ],
   "source": [
    "from typing import List, NamedTuple\n",
    "import numpy as np\n",
    "import jupyros as jr \n",
    "import os \n",
    "from visualization_msgs.msg import Marker, MarkerArray\n",
    "from visualization_msgs.msg import Marker\n",
    "import moveit_commander\n",
    "from visualization_msgs.msg import Marker\n",
    "import numpy as np\n",
    "from scipy.spatial.transform import Rotation\n",
    "from franka_msgs.msg import ErrorRecoveryAction, ErrorRecoveryActionGoal\n",
    "import rospy\n",
    "import rospkg\n",
    "from gazebo_msgs.srv import (\n",
    "    GetModelState,\n",
    "    GetWorldProperties,\n",
    "    GetModelProperties,\n",
    ")\n",
    "from geometry_msgs.msg import PoseStamped\n"
   ]
  },
  {
   "cell_type": "code",
   "execution_count": 2,
   "metadata": {
    "tags": []
   },
   "outputs": [],
   "source": [
    "rospy.init_node(\"grasp_executor\")\n"
   ]
  },
  {
   "cell_type": "code",
   "execution_count": 3,
   "metadata": {
    "tags": []
   },
   "outputs": [
    {
     "data": {
      "text/plain": [
       "'/home/junting/franka_ws/src/franka_fisher/instruct_to_policy/scripts'"
      ]
     },
     "execution_count": 3,
     "metadata": {},
     "output_type": "execute_result"
    }
   ],
   "source": [
    "# rospkg.RosPack().get_path(\"instruct_to_policy\")\n",
    "os.getcwd()"
   ]
  },
  {
   "cell_type": "code",
   "execution_count": 4,
   "metadata": {
    "tags": []
   },
   "outputs": [],
   "source": [
    "import sys\n",
    "import importlib\n",
    "import src.env.moveit_env as moveit_env\n",
    "importlib.reload(moveit_env)\n",
    "import src.env.utils\n",
    "importlib.reload(src.env.utils)\n",
    "from src.env.utils import pose_to_list\n",
    "from src.config import cfg_tabletop"
   ]
  },
  {
   "cell_type": "code",
   "execution_count": 6,
   "metadata": {
    "tags": []
   },
   "outputs": [
    {
     "name": "stdout",
     "output_type": "stream",
     "text": [
      "Loading static scene information\n",
      "Set up Franka API. Ready to go!\n",
      "Resetted\n"
     ]
    }
   ],
   "source": [
    "env = moveit_env.MoveitGazeboEnv(cfg_tabletop)\n",
    "print(\"Resetted\")\n",
    "env.reset() \n"
   ]
  },
  {
   "cell_type": "code",
   "execution_count": 7,
   "metadata": {
    "tags": []
   },
   "outputs": [
    {
     "name": "stdout",
     "output_type": "stream",
     "text": [
      "position: \n",
      "  x: 0.00699134078563832\n",
      "  y: -3.421033061698395e-05\n",
      "  z: 0.4870562694922324\n",
      "orientation: \n",
      "  x: 0.9999999042740277\n",
      "  y: -2.0214526734888325e-05\n",
      "  z: 0.0004351339849674281\n",
      "  w: 4.12519503945439e-05\n"
     ]
    }
   ],
   "source": [
    "end_effector_pose = env.get_ee_pose()\n",
    "print(end_effector_pose)"
   ]
  },
  {
   "cell_type": "markdown",
   "metadata": {
    "tags": []
   },
   "source": [
    "## Grasp"
   ]
  },
  {
   "cell_type": "code",
   "execution_count": 8,
   "metadata": {
    "tags": []
   },
   "outputs": [],
   "source": [
    "gazebo_node_name = 'gazebo'\n",
    "object_name = 'stone'\n",
    "frame_id = 'world'\n",
    "get_model_state = rospy.ServiceProxy(f'{gazebo_node_name}/get_model_state', GetModelState)\n"
   ]
  },
  {
   "cell_type": "code",
   "execution_count": 9,
   "metadata": {
    "tags": []
   },
   "outputs": [],
   "source": [
    "grasp_pose = env.parse_pose(object=\"stone\", action=\"grasp\")"
   ]
  },
  {
   "cell_type": "code",
   "execution_count": null,
   "metadata": {
    "tags": []
   },
   "outputs": [],
   "source": [
    "grasp_pose"
   ]
  },
  {
   "cell_type": "code",
   "execution_count": 10,
   "metadata": {},
   "outputs": [],
   "source": [
    "\n",
    "\n",
    "env.open_gripper()\n",
    "env.move_to_pose(grasp_pose)\n",
    "env.close_gripper()"
   ]
  },
  {
   "cell_type": "code",
   "execution_count": 11,
   "metadata": {},
   "outputs": [],
   "source": [
    "env.attach_object(\"stone\")"
   ]
  },
  {
   "cell_type": "markdown",
   "metadata": {},
   "source": [
    "## Place"
   ]
  },
  {
   "cell_type": "code",
   "execution_count": 19,
   "metadata": {
    "tags": []
   },
   "outputs": [],
   "source": [
    "place_pose = env.parse_pose(object=\"red_tray\", action=\"place\")"
   ]
  },
  {
   "cell_type": "code",
   "execution_count": 20,
   "metadata": {
    "tags": []
   },
   "outputs": [
    {
     "data": {
      "text/plain": [
       "position: \n",
       "  x: 0.004103\n",
       "  y: 0.219654\n",
       "  z: 0.619764\n",
       "orientation: \n",
       "  x: -0.9998729039753775\n",
       "  y: -0.0014545356732260013\n",
       "  z: 0.011564927883865365\n",
       "  w: 0.010877162537254839"
      ]
     },
     "execution_count": 20,
     "metadata": {},
     "output_type": "execute_result"
    }
   ],
   "source": [
    "place_pose"
   ]
  },
  {
   "cell_type": "code",
   "execution_count": 22,
   "metadata": {},
   "outputs": [],
   "source": [
    "env.move_to_pose(place_pose)\n",
    "env.open_gripper()"
   ]
  },
  {
   "cell_type": "markdown",
   "metadata": {},
   "source": [
    "## RVIZ markers"
   ]
  },
  {
   "cell_type": "code",
   "execution_count": null,
   "metadata": {},
   "outputs": [],
   "source": []
  },
  {
   "cell_type": "code",
   "execution_count": 14,
   "metadata": {
    "tags": []
   },
   "outputs": [
    {
     "data": {
      "application/vnd.jupyter.widget-view+json": {
       "model_id": "7e9f563e9d404af7bc6a2a06630b1570",
       "version_major": 2,
       "version_minor": 0
      },
      "text/plain": [
       "VBox(children=(Label(value='header'), HBox(children=(Label(value='seq', layout=Layout(width='100px')), IntText…"
      ]
     },
     "execution_count": 14,
     "metadata": {},
     "output_type": "execute_result"
    }
   ],
   "source": [
    "jr.publish('/end_effector_pose', PoseStamped)"
   ]
  }
 ],
 "metadata": {
  "kernelspec": {
   "display_name": "ROS Python 3 (ipykernel)",
   "language": "python",
   "name": "ros_python"
  },
  "language_info": {
   "codemirror_mode": {
    "name": "ipython",
    "version": 3
   },
   "file_extension": ".py",
   "mimetype": "text/x-python",
   "name": "python",
   "nbconvert_exporter": "python",
   "pygments_lexer": "ipython3",
   "version": "3.9.17"
  }
 },
 "nbformat": 4,
 "nbformat_minor": 4
}
