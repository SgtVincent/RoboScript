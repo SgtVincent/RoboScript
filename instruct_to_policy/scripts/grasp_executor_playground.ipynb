{
 "cells": [
  {
   "cell_type": "code",
   "execution_count": 1,
   "metadata": {
    "tags": []
   },
   "outputs": [
    {
     "name": "stdout",
     "output_type": "stream",
     "text": [
      "Failed to import pyassimp, see https://github.com/ros-planning/moveit/issues/86 for more info\n"
     ]
    }
   ],
   "source": [
    "from typing import List, NamedTuple\n",
    "import numpy as np\n",
    "import jupyros as jr \n",
    "import os \n",
    "from visualization_msgs.msg import Marker, MarkerArray\n",
    "from visualization_msgs.msg import Marker\n",
    "import moveit_commander\n",
    "from visualization_msgs.msg import Marker\n",
    "import numpy as np\n",
    "from scipy.spatial.transform import Rotation\n",
    "from franka_msgs.msg import ErrorRecoveryAction, ErrorRecoveryActionGoal\n",
    "import rospy\n",
    "from gazebo_msgs.srv import (\n",
    "    GetModelState,\n",
    "    GetWorldProperties,\n",
    "    GetModelProperties,\n",
    ")\n",
    "from geometry_msgs.msg import PoseStamped\n"
   ]
  },
  {
   "cell_type": "code",
   "execution_count": 2,
   "metadata": {
    "tags": []
   },
   "outputs": [],
   "source": [
    "rospy.init_node(\"grasp_executor\")\n"
   ]
  },
  {
   "cell_type": "code",
   "execution_count": 3,
   "metadata": {
    "tags": []
   },
   "outputs": [],
   "source": [
    "import importlib\n",
    "import src.env.moveit_interface as moveit_interface\n",
    "importlib.reload(moveit_interface)\n",
    "import src.env.utils\n",
    "importlib.reload(src.env.utils)\n",
    "from src.env.utils import pose_to_list"
   ]
  },
  {
   "cell_type": "code",
   "execution_count": 4,
   "metadata": {
    "tags": []
   },
   "outputs": [
    {
     "data": {
      "text/plain": [
       "[-0.06461474670798939,\n",
       " -0.5838553026391198,\n",
       " -0.3817254430121313,\n",
       " -1.9759290387751651,\n",
       " -0.19241680207052791,\n",
       " 1.4353618116417994,\n",
       " 0.3596019714479075]"
      ]
     },
     "execution_count": 4,
     "metadata": {},
     "output_type": "execute_result"
    }
   ],
   "source": [
    "import moveit_commander\n",
    "moveit_commander.MoveGroupCommander(\"panda_manipulator\").get_current_joint_values()"
   ]
  },
  {
   "cell_type": "code",
   "execution_count": null,
   "metadata": {},
   "outputs": [],
   "source": []
  },
  {
   "cell_type": "code",
   "execution_count": 5,
   "metadata": {
    "tags": []
   },
   "outputs": [
    {
     "name": "stdout",
     "output_type": "stream",
     "text": [
      "Loading static scene information\n",
      "Set up Franka API. Ready to go!\n",
      "Resetted\n"
     ]
    }
   ],
   "source": [
    "init_pose = [\n",
    "-0.0001513652608586824,\n",
    "-0.7856258935003497,\n",
    "9.991577917034533e-06,\n",
    "-2.3559505836972523,\n",
    "2.0776787743592706e-05,\n",
    "1.5717418653690114,\n",
    "0.7853832208311591\n",
    "]\n",
    "grasp_controller = moveit_interface.GraspExecutor(\"world\", reset_pose=init_pose)\n",
    "print(\"Resetted\")\n",
    "grasp_controller.reset() \n"
   ]
  },
  {
   "cell_type": "code",
   "execution_count": 6,
   "metadata": {
    "tags": []
   },
   "outputs": [
    {
     "data": {
      "text/plain": [
       "{'ground_plane': {},\n",
       " 'table': {},\n",
       " 'pick_tray': {},\n",
       " 'place_tray': {},\n",
       " 'stone': {}}"
      ]
     },
     "execution_count": 6,
     "metadata": {},
     "output_type": "execute_result"
    }
   ],
   "source": [
    "grasp_controller.objects\n"
   ]
  },
  {
   "cell_type": "markdown",
   "metadata": {
    "tags": []
   },
   "source": [
    "## Grasp"
   ]
  },
  {
   "cell_type": "code",
   "execution_count": 7,
   "metadata": {
    "tags": []
   },
   "outputs": [],
   "source": [
    "gazebo_node_name = 'gazebo'\n",
    "object_name = 'stone'\n",
    "frame_id = 'world'\n",
    "get_model_state = rospy.ServiceProxy(f'{gazebo_node_name}/get_model_state', GetModelState)\n"
   ]
  },
  {
   "cell_type": "code",
   "execution_count": 8,
   "metadata": {
    "tags": []
   },
   "outputs": [
    {
     "name": "stdout",
     "output_type": "stream",
     "text": [
      "position: \n",
      "  x: 0.0002860000530031958\n",
      "  y: -0.2219720009310199\n",
      "  z: 0.46316699994401617\n",
      "orientation: \n",
      "  x: 1.4547191945983895e-08\n",
      "  y: 8.280556300674997e-10\n",
      "  z: 2.1379716566815116e-13\n",
      "  w: 1.0\n"
     ]
    }
   ],
   "source": [
    "object_state = get_model_state(object_name, frame_id)\n",
    "object_pose = object_state.pose\n",
    "print(object_pose)\n",
    "pos, rot = pose_to_list(object_pose)\n",
    "# print(pos, rot)"
   ]
  },
  {
   "cell_type": "code",
   "execution_count": 9,
   "metadata": {},
   "outputs": [
    {
     "name": "stdout",
     "output_type": "stream",
     "text": [
      "Moving to pre-grasp pose\n",
      "Moved to pre grasp. Remmoving object\n",
      "Moving to grasp pose\n",
      "Closing gripper\n"
     ]
    },
    {
     "data": {
      "text/plain": [
       "True"
      ]
     },
     "execution_count": 9,
     "metadata": {},
     "output_type": "execute_result"
    }
   ],
   "source": [
    "grasp_controller.grasp(np.array(pos) + np.array([0,0,0.01], dtype=float), np.array([1, 0, 0, 0], dtype=float))\n",
    "# lift\n",
    "grasp_controller.move_to_pose(np.array(pos) + np.array([0,0,0.1], dtype=float), np.array([1, 0, 0, 0], dtype=float)) "
   ]
  },
  {
   "cell_type": "code",
   "execution_count": 10,
   "metadata": {},
   "outputs": [],
   "source": [
    "import time \n",
    "time.sleep(5)"
   ]
  },
  {
   "cell_type": "markdown",
   "metadata": {},
   "source": [
    "## Place"
   ]
  },
  {
   "cell_type": "code",
   "execution_count": 11,
   "metadata": {
    "tags": []
   },
   "outputs": [],
   "source": [
    "gazebo_node_name = 'gazebo'\n",
    "object_name = 'place_tray'\n",
    "frame_id = 'world'\n",
    "get_model_state = rospy.ServiceProxy(f'{gazebo_node_name}/get_model_state', GetModelState)\n"
   ]
  },
  {
   "cell_type": "code",
   "execution_count": 12,
   "metadata": {
    "tags": []
   },
   "outputs": [
    {
     "name": "stdout",
     "output_type": "stream",
     "text": [
      "position: \n",
      "  x: 0.004103\n",
      "  y: 0.219654\n",
      "  z: 0.419764\n",
      "orientation: \n",
      "  x: 0.0\n",
      "  y: 0.0\n",
      "  z: 0.0\n",
      "  w: 1.0\n"
     ]
    }
   ],
   "source": [
    "object_state = get_model_state(object_name, frame_id)\n",
    "object_pose = object_state.pose\n",
    "print(object_pose)\n",
    "pos, rot = pose_to_list(object_pose)"
   ]
  },
  {
   "cell_type": "code",
   "execution_count": 13,
   "metadata": {},
   "outputs": [
    {
     "name": "stdout",
     "output_type": "stream",
     "text": [
      "Moving to place pose\n",
      "Moved to place. Remmoving object\n",
      "Opening gripper\n"
     ]
    },
    {
     "data": {
      "text/plain": [
       "True"
      ]
     },
     "execution_count": 13,
     "metadata": {},
     "output_type": "execute_result"
    }
   ],
   "source": [
    "grasp_controller.place(np.array(pos) + np.array([0,0,0.1], dtype=float), np.array([1, 0, 0, 0], dtype=float))"
   ]
  },
  {
   "cell_type": "markdown",
   "metadata": {},
   "source": [
    "## RVIZ markers"
   ]
  },
  {
   "cell_type": "code",
   "execution_count": 14,
   "metadata": {
    "tags": []
   },
   "outputs": [],
   "source": [
    "# jr.publish('/end_effector_pose', PoseStamped)"
   ]
  },
  {
   "cell_type": "code",
   "execution_count": 15,
   "metadata": {},
   "outputs": [],
   "source": [
    "# pos = [0.15 + 0.3, 0.10, 0.6]\n",
    "# ori = np.array([0, -0.923, 0.382, 0])\n",
    "# ori = ori / np.linalg.norm(ori)\n",
    "# print(\"Moving to\", pos)"
   ]
  }
 ],
 "metadata": {
  "kernelspec": {
   "display_name": "ROS Python 3 (ipykernel)",
   "language": "python",
   "name": "ros_python"
  },
  "language_info": {
   "codemirror_mode": {
    "name": "ipython",
    "version": 3
   },
   "file_extension": ".py",
   "mimetype": "text/x-python",
   "name": "python",
   "nbconvert_exporter": "python",
   "pygments_lexer": "ipython3",
   "version": "3.9.17"
  }
 },
 "nbformat": 4,
 "nbformat_minor": 4
}
