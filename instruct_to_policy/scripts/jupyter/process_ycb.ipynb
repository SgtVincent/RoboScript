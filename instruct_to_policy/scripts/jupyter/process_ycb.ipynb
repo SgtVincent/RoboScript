{
 "cells": [
  {
   "cell_type": "code",
   "execution_count": 5,
   "metadata": {},
   "outputs": [],
   "source": [
    "import os \n",
    "import numpy as np \n",
    "import json \n",
    "import sys \n",
    "import tqdm\n",
    "import trimesh \n",
    "sys.path.append(\"..\")\n",
    "from src.utils import *"
   ]
  },
  {
   "cell_type": "code",
   "execution_count": 11,
   "metadata": {},
   "outputs": [],
   "source": [
    "# collect all ycb models that has .sdf files\n",
    "ycb_dir = '/media/junting/SSD_data/ycb'\n",
    "model_ids = os.listdir(ycb_dir)\n",
    "metadata = {\n",
    "    'objects': {},\n",
    "}\n",
    "output_dir = '../../data/ycb'\n",
    "if not os.path.exists(output_dir):\n",
    "    os.makedirs(output_dir)\n",
    "\n",
    "\n",
    "for model_id in model_ids:\n",
    "    model_name = model_id[4:]\n",
    "    model_folder = os.path.join(ycb_dir, model_id)\n",
    "    sdf_file = os.path.join(model_folder, f'{model_name}.sdf')\n",
    "    \n",
    "    if os.path.exists(sdf_file):\n",
    "        metadata['objects'][model_id] = {\n",
    "            'model_id': model_id,\n",
    "            'model_name': model_name\n",
    "        }\n",
    "\n",
    "        # calculate the dimension of the object mesh\n",
    "        # Check if there are Google meshes; else use the TSDF folder\n",
    "        if \"google_16k\" in os.listdir(model_folder):\n",
    "            mesh_type = \"google_16k\"\n",
    "        else:\n",
    "            mesh_type = \"tsdf\"\n",
    "\n",
    "        if mesh_type == \"google_16k\":\n",
    "            mesh_file = os.path.join(model_folder, \"google_16k\", \"textured.obj\")\n",
    "        elif mesh_type == \"tsdf\":\n",
    "            mesh_file = os.path.join(model_folder, \"tsdf\", \"textured.obj\")\n",
    "        mesh = trimesh.load(mesh_file)\n",
    "        dimension = getMeshDimensions(mesh)\n",
    "\n",
    "        metadata['objects'][model_id]['bbox_size'] = dimension.tolist()\n",
    "\n",
    "# save metadata\n",
    "with open(os.path.join(output_dir, 'metadata.json'), 'w') as f:\n",
    "    json.dump(metadata, f, indent=4)\n",
    "\n",
    "\n"
   ]
  }
 ],
 "metadata": {
  "kernelspec": {
   "display_name": "housekeep",
   "language": "python",
   "name": "python3"
  },
  "language_info": {
   "codemirror_mode": {
    "name": "ipython",
    "version": 3
   },
   "file_extension": ".py",
   "mimetype": "text/x-python",
   "name": "python",
   "nbconvert_exporter": "python",
   "pygments_lexer": "ipython3",
   "version": "3.9.17"
  },
  "orig_nbformat": 4
 },
 "nbformat": 4,
 "nbformat_minor": 2
}
