{
 "cells": [
  {
   "cell_type": "code",
   "execution_count": null,
   "metadata": {},
   "outputs": [],
   "source": [
    "import os \n",
    "import sys\n",
    "import numpy as np\n",
    "import argparse\n",
    "from scipy.spatial.transform import Rotation as R \n",
    "# add catkin_ws context \n",
    "sys.path.append(\"/home/junting/franka_ws/devel/lib/python3.9/site-packages\")\n",
    "\n",
    "from src.lmp import *\n",
    "from src.env.true_grounding_env import TrueGroundingEnv\n",
    "from src.config import cfg_tabletop\n",
    "import rospy \n",
    "import rospkg\n",
    "import jupyros as jr\n",
    "\n",
    "from std_msgs.msg import String, Header\n",
    "from geometry_msgs.msg import PoseStamped, Pose, Point, Quaternion\n"
   ]
  },
  {
   "cell_type": "code",
   "execution_count": null,
   "metadata": {},
   "outputs": [],
   "source": [
    "########################################\n",
    "# initialize environment\n",
    "########################################\n",
    "rospy.init_node('eval_code', log_level=rospy.DEBUG)\n",
    "# get package root path \n",
    "pkg_root = rospkg.RosPack().get_path('instruct_to_policy')\n",
    "\n",
    "# setup environment\n",
    "env = TrueGroundingEnv(cfg_tabletop)\n",
    "# env.reset()\n"
   ]
  },
  {
   "cell_type": "code",
   "execution_count": null,
   "metadata": {},
   "outputs": [
    {
     "name": "stdout",
     "output_type": "stream",
     "text": [
      "[DEBUG] [1700071201.624778, 530.156000]: Unable to connect subscriber to publisher [http://junting-shlab:33971/] for topic [/tf]: [Errno 111] Connection refused\n",
      "[DEBUG] [1700071201.645319, 530.156000]: connecting to junting-shlab 53899\n",
      "[DEBUG] [1700071201.706818, 530.156000]: connecting to junting-shlab 53899\n",
      "[DEBUG] [1700071201.721705, 530.156000]: Unable to connect subscriber to publisher [http://junting-shlab:33971/] for topic [/tf]: [Errno 111] Connection refused\n",
      "[DEBUG] [1700071201.759881, 530.156000]: connecting to junting-shlab 44845\n",
      "[DEBUG] [1700071201.778225, 530.156000]: connecting to junting-shlab 44845\n",
      "[DEBUG] [1700071201.930032, 530.156000]: connecting to junting-shlab 40915\n",
      "[DEBUG] [1700071202.415616, 530.156000]: connecting to junting-shlab 52125\n",
      "[DEBUG] [1700071202.417491, 530.156000]: connecting to junting-shlab 57389\n",
      "[DEBUG] [1700071202.460689, 530.156000]: connecting to junting-shlab 52125\n",
      "[DEBUG] [1700071202.552384, 530.156000]: connecting to junting-shlab 57389\n",
      "[DEBUG] [1700071202.559159, 530.156000]: connecting to junting-shlab 53565\n",
      "[DEBUG] [1700071202.560639, 530.156000]: connecting to junting-shlab 53565\n",
      "[DEBUG] [1700071204.384734, 530.156000]: connecting to junting-shlab 60427\n",
      "[DEBUG] [1700071205.200834, 530.156000]: connecting to junting-shlab 60427\n",
      "[DEBUG] [1700071206.505229, 530.156000]: connecting to junting-shlab 60427\n",
      "[DEBUG] [1700071206.508489, 530.156000]: connecting to junting-shlab 60427\n",
      "[DEBUG] [1700071206.612048, 530.156000]: connecting to junting-shlab 60427\n",
      "[DEBUG] [1700071206.615183, 530.156000]: connecting to junting-shlab 60427\n",
      "[DEBUG] [1700071206.656257, 530.156000]: connecting to junting-shlab 60427\n",
      "[DEBUG] [1700071206.656525, 530.156000]: connecting to junting-shlab 60427\n"
     ]
    },
    {
     "name": "stderr",
     "output_type": "stream",
     "text": [
      "[WARN] [1700071207.030833, 0.021000]: Detected jump back in time of 530.135000s. Clearing TF buffer.\n",
      "\u001b[33m[ WARN] [1700071207.030590262, 0.020000000]: Detected jump back in time of 530.136s. Clearing TF buffer.\u001b[0m\n"
     ]
    },
    {
     "name": "stdout",
     "output_type": "stream",
     "text": [
      "[DEBUG] [1700071207.332668, 0.320000]: connecting to junting-shlab 60427\n",
      "[DEBUG] [1700071207.342858, 0.330000]: connecting to junting-shlab 60427\n",
      "[DEBUG] [1700071207.358680, 0.344000]: connecting to junting-shlab 60427\n",
      "[DEBUG] [1700071207.361791, 0.347000]: connecting to junting-shlab 60427\n",
      "[DEBUG] [1700071207.382961, 0.352000]: connecting to junting-shlab 60427\n",
      "[DEBUG] [1700071207.395546, 0.379000]: connecting to junting-shlab 60427\n",
      "[DEBUG] [1700071207.397242, 0.381000]: connecting to junting-shlab 60427\n",
      "[DEBUG] [1700071207.401524, 0.385000]: connecting to junting-shlab 60427\n",
      "[DEBUG] [1700071207.401873, 0.385000]: connecting to junting-shlab 60427\n",
      "[DEBUG] [1700071207.433110, 0.417000]: connecting to junting-shlab 60427\n",
      "[DEBUG] [1700072198.346990, 711.725000]: [/tf_static] failed to receive incoming message : unable to receive data from sender, check sender's logs for details\n",
      "[DEBUG] [1700072198.350464, 711.725000]: [/tf] failed to receive incoming message : unable to receive data from sender, check sender's logs for details\n",
      "[DEBUG] [1700072198.350973, 711.725000]: [/tf_static] failed to receive incoming message : unable to receive data from sender, check sender's logs for details\n",
      "[DEBUG] [1700072198.394464, 711.725000]: [/camera_left/aligned_depth/image_raw] failed to receive incoming message : unable to receive data from sender, check sender's logs for details\n",
      "[DEBUG] [1700072198.396625, 711.725000]: [/camera_left/aligned_depth/camera_info] failed to receive incoming message : unable to receive data from sender, check sender's logs for details\n",
      "[DEBUG] [1700072198.424503, 711.725000]: [/camera_right/aligned_depth/image_raw] failed to receive incoming message : unable to receive data from sender, check sender's logs for details\n",
      "[DEBUG] [1700072198.425125, 711.725000]: [/camera_top/aligned_depth/image_raw] failed to receive incoming message : unable to receive data from sender, check sender's logs for details\n",
      "[DEBUG] [1700072198.431217, 711.725000]: [/camera_top/aligned_depth/camera_info] failed to receive incoming message : unable to receive data from sender, check sender's logs for details\n",
      "[DEBUG] [1700072198.431461, 711.725000]: [/camera_right/aligned_depth/camera_info] failed to receive incoming message : unable to receive data from sender, check sender's logs for details\n",
      "[DEBUG] [1700072198.460809, 711.725000]: Unable to connect subscriber to publisher [http://junting-shlab:38955/] for topic [/tf_static]: [Errno 111] Connection refused\n",
      "[DEBUG] [1700072198.753257, 711.725000]: [/tf] failed to receive incoming message : unable to receive data from sender, check sender's logs for details\n",
      "[DEBUG] [1700072198.756431, 711.725000]: [/tf_static] failed to receive incoming message : unable to receive data from sender, check sender's logs for details\n",
      "[DEBUG] [1700072213.920556, 711.725000]: [/tf] failed to receive incoming message : unable to receive data from sender, check sender's logs for details\n",
      "[DEBUG] [1700072213.920965, 711.725000]: [/franka_gripper/stop/status] failed to receive incoming message : unable to receive data from sender, check sender's logs for details\n",
      "[DEBUG] [1700072213.921122, 711.725000]: [/franka_gripper/move/status] failed to receive incoming message : unable to receive data from sender, check sender's logs for details\n",
      "[DEBUG] [1700072213.921217, 711.725000]: [/franka_gripper/grasp/result] failed to receive incoming message : unable to receive data from sender, check sender's logs for details\n",
      "[DEBUG] [1700072213.921315, 711.725000]: [/franka_gripper/move/feedback] failed to receive incoming message : unable to receive data from sender, check sender's logs for details\n",
      "[DEBUG] [1700072213.921415, 711.725000]: [/franka_gripper/grasp/feedback] failed to receive incoming message : unable to receive data from sender, check sender's logs for details\n",
      "[DEBUG] [1700072213.921488, 711.725000]: [/franka_gripper/stop/result] failed to receive incoming message : unable to receive data from sender, check sender's logs for details\n",
      "[DEBUG] [1700072213.921560, 711.725000]: [/franka_gripper/move/result] failed to receive incoming message : unable to receive data from sender, check sender's logs for details\n",
      "[DEBUG] [1700072213.921638, 711.725000]: [/franka_gripper/stop/feedback] failed to receive incoming message : unable to receive data from sender, check sender's logs for details\n",
      "[DEBUG] [1700072213.921702, 711.725000]: [/camera_top/color/camera_info] failed to receive incoming message : unable to receive data from sender, check sender's logs for details\n",
      "[DEBUG] [1700072213.921771, 711.725000]: [/camera_top/color/image_raw] failed to receive incoming message : unable to receive data from sender, check sender's logs for details\n",
      "[DEBUG] [1700072213.922218, 711.725000]: [/camera_right/color/camera_info] failed to receive incoming message : unable to receive data from sender, check sender's logs for details\n",
      "[DEBUG] [1700072213.922282, 711.725000]: [/gazebo_ros_bbox_3d_plugin/bounding_boxes_3d] failed to receive incoming message : unable to receive data from sender, check sender's logs for details\n",
      "[DEBUG] [1700072213.922351, 711.725000]: [/camera_right/color/image_raw] failed to receive incoming message : unable to receive data from sender, check sender's logs for details\n",
      "[DEBUG] [1700072213.922430, 711.725000]: [/franka_gripper/grasp/status] failed to receive incoming message : unable to receive data from sender, check sender's logs for details\n",
      "[DEBUG] [1700072213.922721, 711.725000]: [/clock] failed to receive incoming message : unable to receive data from sender, check sender's logs for details\n",
      "[DEBUG] [1700072213.922808, 711.725000]: [/camera_left/color/camera_info] failed to receive incoming message : unable to receive data from sender, check sender's logs for details\n",
      "[DEBUG] [1700072213.922892, 711.725000]: [/camera_left/color/image_raw] failed to receive incoming message : unable to receive data from sender, check sender's logs for details\n",
      "[DEBUG] [1700072219.567864, 711.725000]: Unable to connect subscriber to publisher [http://junting-shlab:46335/] for topic [/tf]: [Errno 111] Connection refused\n",
      "[DEBUG] [1700072219.596762, 711.725000]: connecting to junting-shlab 37469\n",
      "[DEBUG] [1700072219.622278, 711.725000]: connecting to junting-shlab 37469\n",
      "[DEBUG] [1700072219.677499, 711.725000]: Unable to connect subscriber to publisher [http://junting-shlab:46335/] for topic [/tf]: [Errno 111] Connection refused\n",
      "[DEBUG] [1700072219.730413, 711.725000]: connecting to junting-shlab 34591\n",
      "[DEBUG] [1700072219.752130, 711.725000]: connecting to junting-shlab 34591\n",
      "[DEBUG] [1700072219.939224, 711.725000]: connecting to junting-shlab 57871\n",
      "[DEBUG] [1700072220.323790, 711.725000]: connecting to junting-shlab 58073\n",
      "[DEBUG] [1700072220.353799, 711.725000]: connecting to junting-shlab 58073\n",
      "[DEBUG] [1700072220.459651, 711.725000]: connecting to junting-shlab 39471\n",
      "[DEBUG] [1700072220.483294, 711.725000]: connecting to junting-shlab 39471\n",
      "[DEBUG] [1700072220.494510, 711.725000]: connecting to junting-shlab 51115\n",
      "[DEBUG] [1700072220.499175, 711.725000]: connecting to junting-shlab 51115\n",
      "[DEBUG] [1700072222.156089, 711.725000]: connecting to junting-shlab 42469\n",
      "[DEBUG] [1700072222.775952, 711.725000]: connecting to junting-shlab 42469\n",
      "[DEBUG] [1700072224.013003, 711.725000]: connecting to junting-shlab 42469\n",
      "[DEBUG] [1700072224.016007, 711.725000]: connecting to junting-shlab 42469\n",
      "[DEBUG] [1700072224.082274, 711.725000]: connecting to junting-shlab 42469\n",
      "[DEBUG] [1700072224.084682, 711.725000]: connecting to junting-shlab 42469\n",
      "[DEBUG] [1700072224.188392, 0.001000]: connecting to junting-shlab 42469\n",
      "[DEBUG] [1700072224.193247, 0.001000]: connecting to junting-shlab 42469\n"
     ]
    },
    {
     "name": "stderr",
     "output_type": "stream",
     "text": [
      "[WARN] [1700072224.529407, 0.021000]: Detected jump back in time of 711.704000s. Clearing TF buffer.\n",
      "\u001b[33m[ WARN] [1700072224.528787311, 0.021000000]: Detected jump back in time of 711.704s. Clearing TF buffer.\u001b[0m\n"
     ]
    },
    {
     "name": "stdout",
     "output_type": "stream",
     "text": [
      "[DEBUG] [1700072224.803418, 0.293000]: connecting to junting-shlab 42469\n",
      "[DEBUG] [1700072224.805632, 0.297000]: connecting to junting-shlab 42469\n",
      "[DEBUG] [1700072224.809738, 0.301000]: connecting to junting-shlab 42469\n",
      "[DEBUG] [1700072224.821519, 0.311000]: connecting to junting-shlab 42469\n",
      "[DEBUG] [1700072224.823331, 0.313000]: connecting to junting-shlab 42469\n",
      "[DEBUG] [1700072224.825468, 0.315000]: connecting to junting-shlab 42469\n",
      "[DEBUG] [1700072224.845429, 0.326000]: connecting to junting-shlab 42469\n",
      "[DEBUG] [1700072224.859226, 0.345000]: connecting to junting-shlab 42469\n",
      "[DEBUG] [1700072224.860534, 0.346000]: connecting to junting-shlab 42469\n",
      "[DEBUG] [1700072224.905354, 0.388000]: connecting to junting-shlab 42469\n",
      "[DEBUG] [1700072937.627805, 148.260000]: [/camera_right/aligned_depth/image_raw] failed to receive incoming message : unable to receive data from sender, check sender's logs for details\n",
      "[DEBUG] [1700072937.630179, 148.260000]: [/camera_right/aligned_depth/camera_info] failed to receive incoming message : unable to receive data from sender, check sender's logs for details\n",
      "[DEBUG] [1700072937.634628, 148.260000]: [/camera_left/aligned_depth/image_raw] failed to receive incoming message : unable to receive data from sender, check sender's logs for details\n",
      "[DEBUG] [1700072937.637496, 148.260000]: [/camera_left/aligned_depth/camera_info] failed to receive incoming message : unable to receive data from sender, check sender's logs for details\n",
      "[DEBUG] [1700072937.648248, 148.260000]: [/camera_top/aligned_depth/image_raw] failed to receive incoming message : unable to receive data from sender, check sender's logs for details\n",
      "[DEBUG] [1700072937.652639, 148.260000]: [/camera_top/aligned_depth/camera_info] failed to receive incoming message : unable to receive data from sender, check sender's logs for details\n",
      "[DEBUG] [1700072937.690038, 148.260000]: [/tf_static] failed to receive incoming message : unable to receive data from sender, check sender's logs for details\n",
      "[DEBUG] [1700072937.692047, 148.260000]: [/tf] failed to receive incoming message : unable to receive data from sender, check sender's logs for details\n",
      "[DEBUG] [1700072937.703388, 148.260000]: [/tf_static] failed to receive incoming message : unable to receive data from sender, check sender's logs for details\n",
      "[DEBUG] [1700072937.978672, 148.260000]: [/tf] failed to receive incoming message : unable to receive data from sender, check sender's logs for details\n",
      "[DEBUG] [1700072937.979548, 148.260000]: [/tf_static] failed to receive incoming message : unable to receive data from sender, check sender's logs for details\n",
      "[DEBUG] [1700072938.086505, 148.260000]: Unable to connect subscriber to publisher [http://junting-shlab:35647/] for topic [/tf_static]: [Errno 111] Connection refused\n",
      "[DEBUG] [1700072938.086669, 148.260000]: Unable to connect subscriber to publisher [http://junting-shlab:34487/] for topic [/tf_static]: [Errno 111] Connection refused\n",
      "[DEBUG] [1700072938.106318, 148.260000]: Unable to connect subscriber to publisher [http://junting-shlab:35647/] for topic [/tf]: [Errno 111] Connection refused\n",
      "[DEBUG] [1700072938.127187, 148.260000]: Unable to connect subscriber to publisher [http://junting-shlab:35647/] for topic [/tf_static]: [Errno 111] Connection refused\n",
      "[DEBUG] [1700072953.051398, 148.260000]: [/franka_gripper/grasp/feedback] failed to receive incoming message : unable to receive data from sender, check sender's logs for details\n",
      "[DEBUG] [1700072953.052819, 148.260000]: [/franka_gripper/grasp/status] failed to receive incoming message : unable to receive data from sender, check sender's logs for details\n",
      "[DEBUG] [1700072953.053010, 148.260000]: [/franka_gripper/move/result] failed to receive incoming message : unable to receive data from sender, check sender's logs for details\n",
      "[DEBUG] [1700072953.053060, 148.260000]: [/franka_gripper/grasp/result] failed to receive incoming message : unable to receive data from sender, check sender's logs for details\n",
      "[DEBUG] [1700072953.053102, 148.260000]: [/tf] failed to receive incoming message : unable to receive data from sender, check sender's logs for details\n",
      "[DEBUG] [1700072953.053958, 148.260000]: [/franka_gripper/move/status] failed to receive incoming message : unable to receive data from sender, check sender's logs for details\n",
      "[DEBUG] [1700072953.053999, 148.260000]: [/franka_gripper/move/feedback] failed to receive incoming message : unable to receive data from sender, check sender's logs for details\n",
      "[DEBUG] [1700072953.054094, 148.260000]: [/camera_top/color/camera_info] failed to receive incoming message : unable to receive data from sender, check sender's logs for details\n",
      "[DEBUG] [1700072953.054131, 148.260000]: [/franka_gripper/stop/status] failed to receive incoming message : unable to receive data from sender, check sender's logs for details\n",
      "[DEBUG] [1700072953.054168, 148.260000]: [/franka_gripper/stop/feedback] failed to receive incoming message : unable to receive data from sender, check sender's logs for details\n",
      "[DEBUG] [1700072953.054204, 148.260000]: [/camera_right/color/camera_info] failed to receive incoming message : unable to receive data from sender, check sender's logs for details\n",
      "[DEBUG] [1700072953.054501, 148.260000]: [/camera_top/color/image_raw] failed to receive incoming message : unable to receive data from sender, check sender's logs for details\n",
      "[DEBUG] [1700072953.054543, 148.260000]: [/franka_gripper/stop/result] failed to receive incoming message : unable to receive data from sender, check sender's logs for details\n",
      "[DEBUG] [1700072953.054603, 148.260000]: [/camera_right/color/image_raw] failed to receive incoming message : unable to receive data from sender, check sender's logs for details\n",
      "[DEBUG] [1700072953.054636, 148.260000]: [/camera_left/color/camera_info] failed to receive incoming message : unable to receive data from sender, check sender's logs for details\n",
      "[DEBUG] [1700072953.054670, 148.260000]: [/gazebo_ros_bbox_3d_plugin/bounding_boxes_3d] failed to receive incoming message : unable to receive data from sender, check sender's logs for details\n",
      "[DEBUG] [1700072953.054714, 148.260000]: [/camera_left/color/image_raw] failed to receive incoming message : unable to receive data from sender, check sender's logs for details\n",
      "[DEBUG] [1700072953.054826, 148.260000]: [/clock] failed to receive incoming message : unable to receive data from sender, check sender's logs for details\n"
     ]
    }
   ],
   "source": [
    "env.parse_adaptive_shape_grasp_pose(\"Room_Essentials_Mug_White_Yellow\")"
   ]
  },
  {
   "cell_type": "code",
   "execution_count": null,
   "metadata": {},
   "outputs": [],
   "source": [
    "# Load files & data \n",
    "def filter_drawer0(processed_data, raw_data, mask):\n",
    "    \"\"\"\n",
    "    Filter tasks involving interacting with drawer 0, since it is too far from the robot.\n",
    "    \"\"\"\n",
    "\n",
    "    for i, data in enumerate(processed_data):\n",
    "        if mask[i] == 0: # already filtered in previous filters \n",
    "            continue\n",
    "        full_query = data['query']\n",
    "        instruction = full_query.split(';')[-1]\n",
    "        if 'drawer0' in instruction:\n",
    "            mask[i] = 0\n",
    "            \n",
    "    return mask \n",
    "\n",
    "\n",
    "def filter_tasks(processed_data, raw_data):\n",
    "    \"\"\"\n",
    "    Filter the tasks that are not suitable for the environment based on hand-crafted rules.\n",
    "    \"\"\"\n",
    "    filter_funcs = [filter_drawer0]\n",
    "    mask = np.ones((len(processed_data)))\n",
    "    for func in filter_funcs:\n",
    "        mask = func(processed_data, raw_data, mask)\n",
    "        \n",
    "    filtered_processed_data = [processed_data[i] for i in range(len(processed_data)) if mask[i] == 1]\n",
    "    filtered_raw_data = [raw_data[i] for i in range(len(raw_data)) if mask[i] == 1]\n",
    "    return filtered_processed_data, filtered_raw_data\n",
    "\n",
    "processed_file_path = os.path.join(pkg_root, processed_file)\n",
    "raw_file_path = os.path.join(pkg_root, raw_file)\n",
    "\n",
    "with open(processed_file_path, 'r') as f:\n",
    "    processed_data = json.load(f)\n",
    "with open(raw_file_path, 'r') as f:\n",
    "    raw_data = json.load(f)\n",
    "\n",
    "# filter tasks that are not suitable for the environment\n",
    "filtered_processed_data, filtered_raw_data = filter_tasks(processed_data, raw_data)"
   ]
  },
  {
   "cell_type": "markdown",
   "metadata": {},
   "source": [
    "## Pick and Place"
   ]
  },
  {
   "cell_type": "code",
   "execution_count": null,
   "metadata": {},
   "outputs": [],
   "source": [
    "env.reset()"
   ]
  },
  {
   "cell_type": "code",
   "execution_count": null,
   "metadata": {},
   "outputs": [],
   "source": [
    "pose_msg = env.parse_grasp_pose(\"apple\")"
   ]
  },
  {
   "cell_type": "code",
   "execution_count": null,
   "metadata": {},
   "outputs": [],
   "source": [
    "rot_mat = R.from_quat([pose_msg.orientation.x, pose_msg.orientation.y, pose_msg.orientation.z, pose_msg.orientation.w]).as_matrix()\n",
    "translation = np.array([pose_msg.position.x, pose_msg.position.y, pose_msg.position.z])\n",
    "\n",
    "depth = 0.05\n",
    "\n",
    "pregrasp_offset_local = np.array([0, 0, -0.15]).astype(np.float32)\n",
    "# predicted gripper center is 0.02m above the gripper tip\n",
    "approach_offset_local = np.array([0, 0, depth - 0.02 ]).astype(np.float32)\n",
    "pregrasp_position = translation + rot_mat @ pregrasp_offset_local\n",
    "approach_position = translation + rot_mat @ approach_offset_local\n",
    "\n",
    "pregrasp_pose = Pose(position=Point(*pregrasp_position), orientation=pose_msg.orientation)\n",
    "approach_pose = Pose(position=Point(*approach_position), orientation=pose_msg.orientation)"
   ]
  },
  {
   "cell_type": "code",
   "execution_count": null,
   "metadata": {},
   "outputs": [],
   "source": [
    "env.open_gripper()"
   ]
  },
  {
   "cell_type": "code",
   "execution_count": null,
   "metadata": {},
   "outputs": [],
   "source": [
    "env.publish_goal_to_marker(pregrasp_pose)\n",
    "env.move_to_pose(pregrasp_pose)"
   ]
  },
  {
   "cell_type": "code",
   "execution_count": null,
   "metadata": {},
   "outputs": [],
   "source": [
    "env.publish_goal_to_marker(approach_pose)\n",
    "env.move_to_pose(approach_pose)"
   ]
  },
  {
   "cell_type": "code",
   "execution_count": null,
   "metadata": {},
   "outputs": [],
   "source": [
    "env.close_gripper(width=0.05, force=30)"
   ]
  },
  {
   "cell_type": "code",
   "execution_count": null,
   "metadata": {},
   "outputs": [],
   "source": [
    "env.attach_object(\"apple\")"
   ]
  },
  {
   "cell_type": "code",
   "execution_count": null,
   "metadata": {},
   "outputs": [],
   "source": [
    "place_pose = env.parse_place_pose(object_name=\"apple\", receptacle_name=\"white_ceramic_plate\")"
   ]
  },
  {
   "cell_type": "code",
   "execution_count": null,
   "metadata": {},
   "outputs": [],
   "source": [
    "env.move_to_pose(place_pose)\n",
    "env.open_gripper()"
   ]
  },
  {
   "cell_type": "code",
   "execution_count": null,
   "metadata": {},
   "outputs": [],
   "source": [
    "env.detach_object(\"apple\")"
   ]
  },
  {
   "cell_type": "markdown",
   "metadata": {},
   "source": [
    "## Open Drawer"
   ]
  },
  {
   "cell_type": "code",
   "execution_count": null,
   "metadata": {},
   "outputs": [],
   "source": [
    "jr.publish('/rviz/moveit/move_marker/goal_panda_hand_tcp', PoseStamped)"
   ]
  },
  {
   "cell_type": "code",
   "execution_count": null,
   "metadata": {},
   "outputs": [],
   "source": [
    "env.reset()\n",
    "# env.open_gripper()"
   ]
  },
  {
   "cell_type": "code",
   "execution_count": null,
   "metadata": {},
   "outputs": [],
   "source": [
    "# env.get_obj_name_list()\n",
    "# [bbox.object_id for bbox in env.gazebo_gt_bboxes]\n",
    "env.get_3d_bbox(\"cabinet.handle_0\")"
   ]
  },
  {
   "cell_type": "code",
   "execution_count": null,
   "metadata": {},
   "outputs": [],
   "source": [
    "grasp_pose = env.parse_grasp_pose(object_name=\"cabinet.handle_0\")\n",
    "print(grasp_pose)"
   ]
  },
  {
   "cell_type": "code",
   "execution_count": null,
   "metadata": {},
   "outputs": [],
   "source": [
    "env.publish_goal_to_marker(grasp_pose)"
   ]
  },
  {
   "cell_type": "code",
   "execution_count": null,
   "metadata": {},
   "outputs": [],
   "source": [
    "env.grasp(grasp_pose)\n",
    "# env.move_to_pose(grasp_pose)"
   ]
  },
  {
   "cell_type": "code",
   "execution_count": null,
   "metadata": {},
   "outputs": [],
   "source": [
    "env.close_gripper()"
   ]
  },
  {
   "cell_type": "code",
   "execution_count": null,
   "metadata": {},
   "outputs": [],
   "source": [
    "# generate a horizontal trajectory to open the drawer\n",
    "grasp_position = np.array([grasp_pose.position.x, grasp_pose.position.y, grasp_pose.position.z])\n",
    "pull_position = grasp_position + np.array([0.2, 0, 0]).astype(float)\n",
    "pull_pose = Pose(position=Point(*pull_position), orientation=grasp_pose.orientation)"
   ]
  },
  {
   "cell_type": "code",
   "execution_count": null,
   "metadata": {},
   "outputs": [],
   "source": [
    "env.move_to_pose(pull_pose)"
   ]
  },
  {
   "cell_type": "code",
   "execution_count": null,
   "metadata": {},
   "outputs": [],
   "source": [
    "env.open_gripper()"
   ]
  },
  {
   "cell_type": "code",
   "execution_count": null,
   "metadata": {},
   "outputs": [],
   "source": [
    "pose_msg = env.parse_grasp_pose(object_name=\"apple\")\n",
    "\n",
    "rot_mat = R.from_quat([pose_msg.orientation.x, pose_msg.orientation.y, pose_msg.orientation.z, pose_msg.orientation.w]).as_matrix()\n",
    "translation = np.array([pose_msg.position.x, pose_msg.position.y, pose_msg.position.z])\n",
    "\n",
    "depth = 0.05\n",
    "\n",
    "pregrasp_offset_local = np.array([0, 0, -0.15]).astype(np.float32)\n",
    "# predicted gripper center is 0.02m above the gripper tip\n",
    "approach_offset_local = np.array([0, 0, depth - 0.02 ]).astype(np.float32)\n",
    "pregrasp_position = translation + rot_mat @ pregrasp_offset_local\n",
    "approach_position = translation + rot_mat @ approach_offset_local\n",
    "\n",
    "pregrasp_pose = Pose(position=Point(*pregrasp_position), orientation=pose_msg.orientation)\n",
    "approach_pose = Pose(position=Point(*approach_position), orientation=pose_msg.orientation)\n",
    " \n",
    "env.open_gripper()\n",
    " \n",
    "# env.publish_goal_to_marker(pregrasp_pose)\n",
    "env.move_to_pose(pregrasp_pose)\n",
    "# env.publish_goal_to_marker(approach_pose)\n",
    "env.move_to_pose(approach_pose)\n",
    "env.close_gripper(width=0.05, force=30)\n",
    "env.attach_object(\"apple\")\n"
   ]
  },
  {
   "cell_type": "code",
   "execution_count": null,
   "metadata": {},
   "outputs": [],
   "source": [
    "env.reset()"
   ]
  }
 ],
 "metadata": {
  "kernelspec": {
   "display_name": "ROS Python 3 (ipykernel)",
   "language": "python",
   "name": "ros_python"
  },
  "language_info": {
   "codemirror_mode": {
    "name": "ipython",
    "version": 3
   },
   "file_extension": ".py",
   "mimetype": "text/x-python",
   "name": "python",
   "nbconvert_exporter": "python",
   "pygments_lexer": "ipython3",
   "version": "3.9.17"
  }
 },
 "nbformat": 4,
 "nbformat_minor": 2
}
